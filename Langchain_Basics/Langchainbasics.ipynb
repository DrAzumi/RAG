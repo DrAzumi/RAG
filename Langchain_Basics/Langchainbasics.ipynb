{
 "cells": [
  {
   "cell_type": "code",
   "execution_count": 6,
   "metadata": {},
   "outputs": [],
   "source": [
    "import langchain"
   ]
  },
  {
   "cell_type": "code",
   "execution_count": 7,
   "metadata": {},
   "outputs": [
    {
     "data": {
      "text/plain": [
       "True"
      ]
     },
     "execution_count": 7,
     "metadata": {},
     "output_type": "execute_result"
    }
   ],
   "source": [
    "import os\n",
    "from dotenv import load_dotenv\n",
    "load_dotenv() "
   ]
  },
  {
   "cell_type": "code",
   "execution_count": 10,
   "metadata": {},
   "outputs": [],
   "source": [
    "os.environ[\"GROQ_API_KEY\"] = os.getenv(\"GROQ_API_KEY\")"
   ]
  },
  {
   "cell_type": "markdown",
   "metadata": {},
   "source": [
    "### Example 1 : Simple LLM call with streaming output\n"
   ]
  },
  {
   "cell_type": "code",
   "execution_count": null,
   "metadata": {},
   "outputs": [],
   "source": [
    "from langchain.chat_models import init_chat_model\n",
    "from langchain_core.messages import HumanMessage , SystemMessage"
   ]
  },
  {
   "cell_type": "code",
   "execution_count": 13,
   "metadata": {},
   "outputs": [
    {
     "data": {
      "text/plain": [
       "ChatGroq(client=<groq.resources.chat.completions.Completions object at 0x11be00ec0>, async_client=<groq.resources.chat.completions.AsyncCompletions object at 0x11be017f0>, model_name='llama-3.1-8b-instant', model_kwargs={}, groq_api_key=SecretStr('**********'))"
      ]
     },
     "execution_count": 13,
     "metadata": {},
     "output_type": "execute_result"
    }
   ],
   "source": [
    "model = init_chat_model(\"groq:llama-3.1-8b-instant\")\n",
    "model"
   ]
  },
  {
   "cell_type": "code",
   "execution_count": 15,
   "metadata": {},
   "outputs": [],
   "source": [
    "### Create messages\n",
    "messages = [\n",
    "      SystemMessage(\"You are a helpful AI assistant\"),\n",
    "      HumanMessage(\"What are the top three benefits of playing sports?\")\n",
    "]\n"
   ]
  },
  {
   "cell_type": "code",
   "execution_count": 17,
   "metadata": {},
   "outputs": [
    {
     "name": "stdout",
     "output_type": "stream",
     "text": [
      "Playing sports can have numerous benefits for individuals of all ages. Here are the top three benefits of playing sports:\n",
      "\n",
      "1. **Physical Health Benefits**: Engaging in sports can improve overall physical health by increasing cardiovascular fitness, strength, flexibility, and coordination. Regular physical activity can also help maintain a healthy weight, reduce the risk of chronic diseases like diabetes and heart disease, and improve sleep quality.\n",
      "\n",
      "2. **Mental Health Benefits**: Playing sports can have a positive impact on mental health by reducing stress and anxiety levels. The physical activity and social interaction involved in sports can release endorphins, also known as \"feel-good\" hormones, which can improve mood and overall mental well-being. Additionally, participating in sports can help build confidence, self-esteem, and resilience.\n",
      "\n",
      "3. **Social Benefits**: Playing sports provides opportunities for socialization and building relationships with teammates, coaches, and opponents. This can help develop important life skills like communication, teamwork, and conflict resolution. Participating in sports can also provide a sense of belonging and community, which is essential for emotional well-being and overall happiness.\n",
      "\n",
      "These benefits can vary depending on the individual and the specific sport or activity, but overall, playing sports can have a positive impact on all aspects of life.\n"
     ]
    }
   ],
   "source": [
    "### invoking the model \n",
    "response = model.invoke(messages)\n",
    "print(response.content)"
   ]
  },
  {
   "cell_type": "code",
   "execution_count": 21,
   "metadata": {},
   "outputs": [
    {
     "name": "stdout",
     "output_type": "stream",
     "text": [
      "Playing sports can have numerous benefits for individuals, both physically and mentally. Here are the top three benefits of playing sports:\n",
      "\n",
      "1. **Improved Physical Health**: Engaging in sports can significantly improve cardiovascular health, increase muscle strength and endurance, and enhance flexibility. Regular physical activity can also help maintain a healthy weight, reduce the risk of chronic diseases, and improve overall physical fitness.\n",
      "\n",
      "2. **Mental Well-being and Stress Relief**: Playing sports can have a positive impact on mental health by reducing stress, anxiety, and depression. The physical activity and social interaction involved in sports can release endorphins, also known as \"feel-good\" hormones, which can improve mood and overall mental well-being.\n",
      "\n",
      "3. **Development of Life Skills and Social Benefits**: Participating in sports can help individuals develop essential life skills such as teamwork, communication, discipline, and problem-solving. Playing sports also provides opportunities to build relationships, make friends, and develop social skills, such as leadership, empathy, and conflict resolution.\n",
      "\n",
      "These benefits can vary depending on the type of sport and the individual's level of involvement, but overall, playing sports can have a profoundly positive impact on a person's physical and mental well-being."
     ]
    }
   ],
   "source": [
    "### Streaming example\n",
    "for chunk in model.stream(messages):\n",
    "    print(chunk.content , end=\"\" ,flush=True)"
   ]
  },
  {
   "cell_type": "markdown",
   "metadata": {},
   "source": [
    "### Dynamic Prompt Templates"
   ]
  },
  {
   "cell_type": "code",
   "execution_count": null,
   "metadata": {},
   "outputs": [],
   "source": [
    "from langchain_core.prompts import ChatPromptTemplate"
   ]
  },
  {
   "cell_type": "code",
   "execution_count": 34,
   "metadata": {},
   "outputs": [],
   "source": [
    "## Sytem message - sys instruction\n",
    "\n",
    "\n",
    "## translation app\n",
    "translation_template = ChatPromptTemplate.from_messages([\n",
    "    (\"system\",\"You are a professional in speaking french and english. Your job is to help user translate the following text {text}from {source_language} to {target_language} language. Maintain the tone and style\" ),\n",
    "    (\"user\",\"{text}\")\n",
    "])\n",
    "\n",
    "## using the template\n",
    "prompt = translation_template.invoke({\n",
    "    \"source_language\":\"English\",\n",
    "    \"target_language\":\"Hindi\",\n",
    "    \"text\":\"What is your name?\"\n",
    "})\n"
   ]
  },
  {
   "cell_type": "code",
   "execution_count": 35,
   "metadata": {},
   "outputs": [
    {
     "name": "stdout",
     "output_type": "stream",
     "text": [
      "Aapka naam kya hai? \n",
      "\n",
      "(Note: Hindi translation of \"What is your name?\" is \"Aapka naam kya hai?\" which is a polite way of asking someone's name in Hindi.)\n"
     ]
    }
   ],
   "source": [
    "translated_reponse = model.invoke(prompt)\n",
    "print(translated_reponse.content)\n"
   ]
  },
  {
   "cell_type": "markdown",
   "metadata": {},
   "source": [
    "### Building Our First Chain"
   ]
  },
  {
   "cell_type": "code",
   "execution_count": 59,
   "metadata": {},
   "outputs": [],
   "source": [
    "from langchain_core.output_parsers import StrOutputParser \n",
    "from langchain_core.runnables import RunnableLambda , RunnablePassthrough\n",
    "\n",
    "def create_story_chain():\n",
    "    story_prompt= ChatPromptTemplate.from_messages(\n",
    "        [\n",
    "            (\"system\",\"You are a creative story teller. Write a short and an engaging story based on a give theme , character , character2 and settings. Only make use of the two characters mentioned\"),\n",
    "            (\"user\",\"Theme: {theme} \\n Main Character:{character} \\n Support Character:{character2} \\n Setting:{setting}\")\n",
    "        ]\n",
    "    )\n",
    "\n",
    "    ## Template for story analysis \n",
    "    analysis_prompt = ChatPromptTemplate.from_messages(\n",
    "        [\n",
    "                (\"system\",\"You are a literary critic. Analyze the following story and provide insights\"),\n",
    "                (\"user\",\"{story}\")\n",
    "        ]\n",
    "    )\n",
    "\n",
    "    story_chain = (\n",
    "        story_prompt| model| StrOutputParser()\n",
    "    )\n",
    "\n",
    "    def analyze_story(story_text):\n",
    "        return {\"story\":story_text}\n",
    "    \n",
    "    analysis_chain =(\n",
    "        story_chain\n",
    "        | RunnableLambda(analyze_story)\n",
    "        |analysis_prompt\n",
    "        |model\n",
    "        |StrOutputParser()\n",
    "    )\n",
    "\n",
    "    return analysis_chain"
   ]
  },
  {
   "cell_type": "code",
   "execution_count": 60,
   "metadata": {},
   "outputs": [
    {
     "data": {
      "text/plain": [
       "ChatPromptTemplate(input_variables=['character', 'character2', 'setting', 'theme'], input_types={}, partial_variables={}, messages=[SystemMessagePromptTemplate(prompt=PromptTemplate(input_variables=[], input_types={}, partial_variables={}, template='You are a creative story teller. Write a short and an engaging story based on a give theme , character , character2 and settings. Only make use of the two characters mentioned'), additional_kwargs={}), HumanMessagePromptTemplate(prompt=PromptTemplate(input_variables=['character', 'character2', 'setting', 'theme'], input_types={}, partial_variables={}, template='Theme: {theme} \\n Main Character:{character} \\n Support Character:{character2} \\n Setting:{setting}'), additional_kwargs={})])\n",
       "| ChatGroq(client=<groq.resources.chat.completions.Completions object at 0x11be00ec0>, async_client=<groq.resources.chat.completions.AsyncCompletions object at 0x11be017f0>, model_name='llama-3.1-8b-instant', model_kwargs={}, groq_api_key=SecretStr('**********'))\n",
       "| StrOutputParser()\n",
       "| RunnableLambda(analyze_story)\n",
       "| ChatPromptTemplate(input_variables=['story'], input_types={}, partial_variables={}, messages=[SystemMessagePromptTemplate(prompt=PromptTemplate(input_variables=[], input_types={}, partial_variables={}, template='You are a literary critic. Analyze the following story and provide insights'), additional_kwargs={}), HumanMessagePromptTemplate(prompt=PromptTemplate(input_variables=['story'], input_types={}, partial_variables={}, template='{story}'), additional_kwargs={})])\n",
       "| ChatGroq(client=<groq.resources.chat.completions.Completions object at 0x11be00ec0>, async_client=<groq.resources.chat.completions.AsyncCompletions object at 0x11be017f0>, model_name='llama-3.1-8b-instant', model_kwargs={}, groq_api_key=SecretStr('**********'))\n",
       "| StrOutputParser()"
      ]
     },
     "execution_count": 60,
     "metadata": {},
     "output_type": "execute_result"
    }
   ],
   "source": [
    "chain = create_story_chain()\n",
    "chain\n"
   ]
  },
  {
   "cell_type": "code",
   "execution_count": 62,
   "metadata": {},
   "outputs": [
    {
     "name": "stdout",
     "output_type": "stream",
     "text": [
      "Story and analysis: \n",
      "What a delightful tale of love and serendipity! As a literary critic, I shall dissect this narrative and offer insights into its various components.\n",
      "\n",
      "**Imagery and Setting:** The story is set in the City of Love, Paris, during the first day of spring. The vivid descriptions of the Eiffel Tower, the Seine River, and the Luxembourg Gardens evoke a sense of beauty and romance. The author's use of sensory details, such as the warm glow of the sun, the scent of blooming flowers, and the sound of birds chirping, effectively transports the reader to the enchanting setting.\n",
      "\n",
      "**Character Development:** Ayan, the protagonist, is a young artist with a creative and romantic soul. His initial hesitation to share the bench with Anjan, only to be won over by her charm, reveals his introverted and sentimental nature. Anjan, on the other hand, is a beautiful and confident French woman with a passion for art. Her kindness and genuine interest in Ayan make her a likable and relatable character.\n",
      "\n",
      "**Plot and Pacing:** The narrative is straightforward and easy to follow, with a clear structure that builds towards a romantic climax. The author skillfully employs a gentle pace, allowing the reader to absorb the atmosphere and become invested in the characters' interactions. The plot unfolds organically, with each scene flowing seamlessly into the next.\n",
      "\n",
      "**Themes:** The story explores several themes that are characteristic of romance fiction:\n",
      "\n",
      "1. **Love at First Sight:** The meeting between Ayan and Anjan is a classic example of love at first sight, where two people connect on an instant, deep level.\n",
      "2. **Artistic Passion:** Both Ayan and Anjan are artists, and their shared passion for art serves as a common ground for their connection.\n",
      "3. **Serendipity:** The universe seems to conspire to bring Ayan and Anjan together, highlighting the idea that love can be a chance encounter.\n",
      "4. **Paris as a Symbol of Love:** The City of Love provides a romantic backdrop for the story, emphasizing the idea that Paris is a place where love and passion can flourish.\n",
      "\n",
      "**Romantic Elements:** The story is, of course, a romance, and the author has crafted a sweet and tender portrayal of love. The dialogue is natural and engaging, with a focus on the emotional and intellectual connection between the characters. The kiss at the end is a satisfying conclusion to the narrative, leaving the reader with a sense of hope and joy.\n",
      "\n",
      "**Criticisms:** While the story is engaging and well-written, it may benefit from a few tweaks:\n",
      "\n",
      "1. **Lack of Conflict:** The narrative is relatively conflict-free, which can make it feel a bit predictable and one-dimensional.\n",
      "2. **Underdeveloped Supporting Characters:** While Ayan and Anjan are well-developed, the supporting characters (e.g., the French woman who asks to share the bench) are somewhat one-dimensional and lack distinct personalities.\n",
      "3. **Overemphasis on Clichés:** The story relies heavily on familiar romance tropes, such as the City of Love, the artist protagonist, and the serendipitous meeting. While these elements are effective, they may feel a bit too familiar and predictable.\n",
      "\n",
      "Overall, this is a charming and engaging tale of love and romance, set against the picturesque backdrop of Paris. While it may benefit from a few tweaks to add depth and complexity, the story is sure to delight readers who enjoy a sweet and sentimental romance.\n"
     ]
    }
   ],
   "source": [
    "result = chain.invoke({\n",
    "    \"theme\":\"Romantic\",\n",
    "    \"character\":\"Ayan\",\n",
    "    \"character2\":\"Anjan\",\n",
    "    \"setting\":\"Spring season in Paris\"\n",
    "})\n",
    "\n",
    "print(\"Story and analysis: \")\n",
    "print(result)"
   ]
  }
 ],
 "metadata": {
  "kernelspec": {
   "display_name": "RAG",
   "language": "python",
   "name": "python3"
  },
  "language_info": {
   "codemirror_mode": {
    "name": "ipython",
    "version": 3
   },
   "file_extension": ".py",
   "mimetype": "text/x-python",
   "name": "python",
   "nbconvert_exporter": "python",
   "pygments_lexer": "ipython3",
   "version": "3.13.3"
  }
 },
 "nbformat": 4,
 "nbformat_minor": 2
}
